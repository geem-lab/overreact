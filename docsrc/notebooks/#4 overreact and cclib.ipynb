{
 "cells": [
  {
   "cell_type": "code",
   "execution_count": 1,
   "metadata": {},
   "outputs": [],
   "source": [
    "import cclib\n",
    "import numpy as np\n",
    "import matplotlib.pyplot as plt\n",
    "from scipy import constants\n",
    "\n",
    "from overreact import core, _thermo, rates, simulate\n",
    "\n",
    "%matplotlib inline"
   ]
  },
  {
   "cell_type": "code",
   "execution_count": 2,
   "metadata": {},
   "outputs": [
    {
     "output_type": "execute_result",
     "data": {
      "text/plain": [
       "2625499.6394798253"
      ]
     },
     "metadata": {},
     "execution_count": 2
    }
   ],
   "source": [
    "jmol = constants.physical_constants[\"Hartree energy\"][0] * constants.N_A\n",
    "jmol"
   ]
  },
  {
   "cell_type": "markdown",
   "metadata": {},
   "source": [
    "I want to reproduce the results of [this paper](https://doi.org/10.1002/qua.25686):\n",
    "\n",
    "$$\\require{mhchem}\\ce{CH4 + Cl^{.} <=> RC -> RC^{\\ddagger} <=> CH3^{.} + HCl}$$"
   ]
  },
  {
   "cell_type": "code",
   "execution_count": 3,
   "metadata": {},
   "outputs": [
    {
     "output_type": "execute_result",
     "data": {
      "text/plain": [
       "Scheme(compounds=('CH4', 'Cl.', 'RC', 'RC*', 'PC', 'CH3.', 'HCl'), reactions=('CH4 + Cl. -> RC', 'RC -> CH4 + Cl.', 'RC -> RC*', 'RC* -> PC', 'PC -> CH3. + HCl', 'CH3. + HCl -> PC'), is_half_equilibrium=(True, True, False, False, True, True), A=((-1.0, 1.0, 0.0, 0.0, 0.0, 0.0), (-1.0, 1.0, 0.0, 0.0, 0.0, 0.0), (1.0, -1.0, -1.0, 0.0, 0.0, 0.0), (0.0, 0.0, 1.0, -1.0, 0.0, 0.0), (0.0, 0.0, 0.0, 1.0, -1.0, 1.0), (0.0, 0.0, 0.0, 0.0, 1.0, -1.0), (0.0, 0.0, 0.0, 0.0, 1.0, -1.0)), B=((-1.0, 0.0, 0.0, 0.0, 0.0, 0.0), (-1.0, 0.0, 0.0, 0.0, 0.0, 0.0), (1.0, 0.0, -1.0, 0.0, 0.0, 0.0), (0.0, 0.0, 1.0, -1.0, 0.0, 0.0), (0.0, 0.0, 0.0, 1.0, -1.0, 0.0), (0.0, 0.0, 0.0, 0.0, 1.0, 0.0), (0.0, 0.0, 0.0, 0.0, 1.0, 0.0)))"
      ]
     },
     "metadata": {},
     "execution_count": 3
    }
   ],
   "source": [
    "scheme = core.parse_reactions(\"\"\"\n",
    "    CH4 + Cl. <=> RC -> RC* -> PC <=> CH3. + HCl\n",
    "\"\"\")\n",
    "scheme"
   ]
  },
  {
   "cell_type": "markdown",
   "metadata": {},
   "source": [
    "Now let's read some data from files:"
   ]
  },
  {
   "cell_type": "code",
   "execution_count": 4,
   "metadata": {},
   "outputs": [
    {
     "output_type": "error",
     "ename": "AttributeError",
     "evalue": "'NoneType' object has no attribute 'parse'",
     "traceback": [
      "\u001b[0;31m---------------------------------------------------------------------------\u001b[0m",
      "\u001b[0;31mAttributeError\u001b[0m                            Traceback (most recent call last)",
      "\u001b[0;32m<ipython-input-4-e7721b481f70>\u001b[0m in \u001b[0;36m<module>\u001b[0;34m\u001b[0m\n\u001b[1;32m      1\u001b[0m \u001b[0;31m# TODO(schneiderfelipe): correct file paths\u001b[0m\u001b[0;34m\u001b[0m\u001b[0;34m\u001b[0m\u001b[0;34m\u001b[0m\u001b[0m\n\u001b[1;32m      2\u001b[0m logfiles = {\n\u001b[0;32m----> 3\u001b[0;31m     \u001b[0;34m\"CH4\"\u001b[0m\u001b[0;34m:\u001b[0m \u001b[0mcclib\u001b[0m\u001b[0;34m.\u001b[0m\u001b[0mccopen\u001b[0m\u001b[0;34m(\u001b[0m\u001b[0;34m\"../../data/tanaka1996/UMP2/6-311G\\(2df,2pd\\)/methane.out\"\u001b[0m\u001b[0;34m)\u001b[0m\u001b[0;34m.\u001b[0m\u001b[0mparse\u001b[0m\u001b[0;34m(\u001b[0m\u001b[0;34m)\u001b[0m\u001b[0;34m.\u001b[0m\u001b[0mgetattributes\u001b[0m\u001b[0;34m(\u001b[0m\u001b[0;34m)\u001b[0m\u001b[0;34m,\u001b[0m\u001b[0;34m\u001b[0m\u001b[0;34m\u001b[0m\u001b[0m\n\u001b[0m\u001b[1;32m      4\u001b[0m     \u001b[0;34m\"RC\"\u001b[0m\u001b[0;34m:\u001b[0m \u001b[0mcclib\u001b[0m\u001b[0;34m.\u001b[0m\u001b[0mccopen\u001b[0m\u001b[0;34m(\u001b[0m\u001b[0;34m\"../../data/Dzib_2018/reactants.out\"\u001b[0m\u001b[0;34m)\u001b[0m\u001b[0;34m.\u001b[0m\u001b[0mparse\u001b[0m\u001b[0;34m(\u001b[0m\u001b[0;34m)\u001b[0m\u001b[0;34m.\u001b[0m\u001b[0mgetattributes\u001b[0m\u001b[0;34m(\u001b[0m\u001b[0;34m)\u001b[0m\u001b[0;34m,\u001b[0m\u001b[0;34m\u001b[0m\u001b[0;34m\u001b[0m\u001b[0m\n\u001b[1;32m      5\u001b[0m     \u001b[0;34m\"RC*\"\u001b[0m\u001b[0;34m:\u001b[0m \u001b[0mcclib\u001b[0m\u001b[0;34m.\u001b[0m\u001b[0mccopen\u001b[0m\u001b[0;34m(\u001b[0m\u001b[0;34m\"../../data/Dzib_2018/ts.out\"\u001b[0m\u001b[0;34m)\u001b[0m\u001b[0;34m.\u001b[0m\u001b[0mparse\u001b[0m\u001b[0;34m(\u001b[0m\u001b[0;34m)\u001b[0m\u001b[0;34m.\u001b[0m\u001b[0mgetattributes\u001b[0m\u001b[0;34m(\u001b[0m\u001b[0;34m)\u001b[0m\u001b[0;34m,\u001b[0m\u001b[0;34m\u001b[0m\u001b[0;34m\u001b[0m\u001b[0m\n",
      "\u001b[0;31mAttributeError\u001b[0m: 'NoneType' object has no attribute 'parse'"
     ]
    }
   ],
   "source": [
    "# TODO(schneiderfelipe): correct file paths\n",
    "logfiles = {\n",
    "    \"CH4\": cclib.ccopen(\"../../data/tanaka1996/UMP2/6-311G\\(2df,2pd\\)/methane.out\").parse().getattributes(),\n",
    "    \"RC\": cclib.ccopen(\"../../data/Dzib_2018/reactants.out\").parse().getattributes(),\n",
    "    \"RC*\": cclib.ccopen(\"../../data/Dzib_2018/ts.out\").parse().getattributes(),\n",
    "    \"PC\": cclib.ccopen(\"../../data/Dzib_2018/products.out\").parse().getattributes(),\n",
    "    \"CH3.\": cclib.ccopen(\"../../data/Dzib_2018/ch3.out\").parse().getattributes(),\n",
    "    \"HCl\": cclib.ccopen(\"../../data/Dzib_2018/hcl.out\").parse().getattributes(),\n",
    "#     \"Cl.\": cclib.ccopen(\"../../data/Dzib_2018/cl.out\").parse().getattributes(),\n",
    "    \"Cl.\": {\n",
    "        \"enthalpy\": -459.62856787 - 0.00283260,\n",
    "        \"entropy\": 0.00065446 + 0.01740262,  # S(el) + S(vib) + S(rot) + S(trans)\n",
    "    },\n",
    "}\n",
    "logfiles[\"Cl.\"][\"freeenergy\"] = logfiles[\"Cl.\"][\"enthalpy\"] - logfiles[\"Cl.\"][\"entropy\"]\n",
    "\n",
    "freeenergy = np.array([logfiles[compound][\"freeenergy\"] for compound in scheme.compounds])\n",
    "freeenergy"
   ]
  },
  {
   "cell_type": "code",
   "execution_count": null,
   "metadata": {},
   "outputs": [],
   "source": [
    "Gconc = constants.R * 298.15 * np.log(constants.atm / (constants.R * 298.15))\n",
    "Gconc / 4184.0"
   ]
  },
  {
   "cell_type": "markdown",
   "metadata": {},
   "source": [
    "The below is just to remind myself that the enthalpy and entropy come out subtractively contributing to the free energy in ORCA!"
   ]
  },
  {
   "cell_type": "code",
   "execution_count": null,
   "metadata": {},
   "outputs": [],
   "source": [
    "logfiles[\"CH4\"][\"enthalpy\"] - logfiles[\"CH4\"][\"entropy\"] == logfiles[\"CH4\"][\"freeenergy\"]"
   ]
  },
  {
   "cell_type": "markdown",
   "metadata": {},
   "source": [
    "Some barriers, which will then be adjusted for molecularity (if needed, it's easier to adjust the absolute Gibbs energies by ):"
   ]
  },
  {
   "cell_type": "code",
   "execution_count": null,
   "metadata": {},
   "outputs": [],
   "source": [
    "barriers = thermo.get_delta(scheme.B, freeenergy * jmol + Gconc)\n",
    "barriers / 4184"
   ]
  },
  {
   "cell_type": "code",
   "execution_count": null,
   "metadata": {},
   "outputs": [],
   "source": [
    "molecularity = np.sum(np.where(scheme.A < 0, -scheme.A, 0), axis=0)\n",
    "molecularity"
   ]
  },
  {
   "cell_type": "code",
   "execution_count": null,
   "metadata": {},
   "outputs": [],
   "source": [
    "k = rates.eyring(barriers)\n",
    "k"
   ]
  },
  {
   "cell_type": "code",
   "execution_count": null,
   "metadata": {},
   "outputs": [],
   "source": [
    "1e-6 * k[2] * k[0] / k[1]"
   ]
  },
  {
   "cell_type": "code",
   "execution_count": null,
   "metadata": {},
   "outputs": [],
   "source": [
    "scheme.reactions"
   ]
  },
  {
   "cell_type": "code",
   "execution_count": null,
   "metadata": {},
   "outputs": [],
   "source": [
    "dydt = simulate.get_dydt(scheme, k)\n",
    "t, y = simulate.get_y(dydt, y0=[1.0, 1.0, 0.0, 0.0, 0., 0., 0.], t_span=[0.0, 1.0e-4])\n",
    "\n",
    "for i, compound in enumerate(scheme.compounds):\n",
    "    if not compound.endswith(\"*\"):\n",
    "        plt.plot(t, y[i], label=compound)\n",
    "plt.legend()\n",
    "\n",
    "y[:, -1]"
   ]
  },
  {
   "cell_type": "code",
   "execution_count": null,
   "metadata": {},
   "outputs": [],
   "source": [
    "dydt_vals = np.array([dydt(t, yt) for yt in y.T])\n",
    "\n",
    "for i, compound in enumerate(scheme.compounds):\n",
    "    if not compound.endswith(\"*\"):\n",
    "        plt.plot(t, dydt_vals.T[i], label=compound)\n",
    "plt.legend()\n",
    "\n",
    "plt.ylim(-5e3, 5e3)"
   ]
  }
 ],
 "metadata": {
  "kernelspec": {
   "name": "python3",
   "display_name": "Python 3.8.6 64-bit",
   "metadata": {
    "interpreter": {
     "hash": "31f2aee4e71d21fbe5cf8b01ff0e069b9275f58929596ceb00d14d90e3e16cd6"
    }
   }
  },
  "language_info": {
   "codemirror_mode": {
    "name": "ipython",
    "version": 3
   },
   "file_extension": ".py",
   "mimetype": "text/x-python",
   "name": "python",
   "nbconvert_exporter": "python",
   "pygments_lexer": "ipython3",
   "version": "3.8.6-final"
  }
 },
 "nbformat": 4,
 "nbformat_minor": 2
}