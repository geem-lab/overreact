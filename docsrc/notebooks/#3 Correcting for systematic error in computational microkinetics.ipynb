{
 "cells": [
  {
   "cell_type": "markdown",
   "metadata": {},
   "source": [
    "Within chemical accuracy (i.e., errors free energy smaller than 1 kcal/mol), it's possible to obtain multiplicative errors in rate constants on the order of\n",
    "\n",
    "$$\\exp\\left(\\frac{\\pm 1}{R T}\\right)$$\n",
    "\n",
    "which amounts to (at room temperature) roughly from 0.1 to 6 times, i.e., around one order of magnitude.\n",
    "\n",
    "But, since systematic errors might cancel out, and energies contributing to reaction rate constants are always deltas, the error estimate above might be high for any decent level of theory and correct physics (i.e. good solvation estimates, eletronic errors, harmonic approximation, etc.). Thus, in order to obtain reaction rate constants within 10% of their \"true\" value, we would need systematic errors to be within\n",
    "\n",
    "$$ R T \\ln\\left(1 \\pm 0.1\\right)$$\n",
    "\n",
    "that is (at room temperature), errors on deltas of free energies should be no larger than 0.06 kcal/mol, which is very demanding (although experimentally possible if careful experiments are taken [[1][1]] [[2][2]]).\n",
    "\n",
    "[1]: https://doi.org/10.1016/0025-5564(67)90030-2\n",
    "[2]: https://doi.org/10.1002/cjce.5450470114\n",
    "\n",
    "DFT barriers can, in some extreme cases, be off by as much as 20 kcal/mol [[5][5]], resulting in errors of over 14 orders of magnitude in reaction rate constants. Fortunately, there are ways of reducing this error, such as properly choosing the functional for the task at hand [[6][6]], correcting energies a posteriori [[3][3]] [[4][4]], or others.\n",
    "\n",
    "[3]: https://doi.org/10.1039/C5CY01332A\n",
    "[4]: https://arxiv.org/abs/1603.08557\n",
    "[5]: https://doi.org/10.1039/B818412G\n",
    "\n",
    "But even after all physics was taken into account and good methodologies were employed, systematic error might still exist. A simple and effective way of overcoming systematic errors is by simply estimating the systematic error. If a kinetic experiment providing concentrations of one or more components over time is available, then the systematic error can be fitted as a constant that multiplies all reaction rate constants of the reaction scheme\n",
    "\n",
    "$$k_i^\\text{true} = k^\\text{err} k_i^\\text{DFT}$$\n",
    "\n",
    "the systematic error in free energy would then be $R T \\ln\\left( k^\\text{err} \\right)$. This could arguably be made with a related reaction as well.\n",
    "\n",
    "This is what is done below."
   ]
  }
 ],
 "metadata": {
  "kernelspec": {
   "display_name": "Python 3",
   "language": "python",
   "name": "python3"
  },
  "language_info": {
   "codemirror_mode": {
    "name": "ipython",
    "version": 3
   },
   "file_extension": ".py",
   "mimetype": "text/x-python",
   "name": "python",
   "nbconvert_exporter": "python",
   "pygments_lexer": "ipython3",
   "version": "3.8.5"
  }
 },
 "nbformat": 4,
 "nbformat_minor": 2
}
