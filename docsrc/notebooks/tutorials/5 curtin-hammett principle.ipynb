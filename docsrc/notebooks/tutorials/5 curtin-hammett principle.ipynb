{
 "metadata": {
  "language_info": {
   "codemirror_mode": {
    "name": "ipython",
    "version": 3
   },
   "file_extension": ".py",
   "mimetype": "text/x-python",
   "name": "python",
   "nbconvert_exporter": "python",
   "pygments_lexer": "ipython3",
   "version": "3.8.5-final"
  },
  "orig_nbformat": 2,
  "kernelspec": {
   "name": "python3",
   "display_name": "Python 3",
   "language": "python"
  }
 },
 "nbformat": 4,
 "nbformat_minor": 2,
 "cells": [
  {
   "source": [
    "## Curtin-Hammett Principle\n",
    "\n",
    "Let's do a toy example that addresses the Curtin-Hammett principle:"
   ],
   "cell_type": "markdown",
   "metadata": {}
  },
  {
   "cell_type": "code",
   "execution_count": 1,
   "metadata": {},
   "outputs": [
    {
     "output_type": "execute_result",
     "data": {
      "text/plain": [
       "Scheme(compounds=('I1', 'I2', 'T1‡', 'P1', 'T2‡', 'P2'), reactions=('I1 -> I2', 'I2 -> I1', 'I1 -> P1', 'I2 -> P2'), is_half_equilibrium=(True, True, False, False), A=((-1.0, 1.0, -1.0, 0.0), (1.0, -1.0, 0.0, -1.0), (0.0, 0.0, 0.0, 0.0), (0.0, 0.0, 1.0, 0.0), (0.0, 0.0, 0.0, 0.0), (0.0, 0.0, 0.0, 1.0)), B=((-1.0, 0.0, -1.0, 0.0), (1.0, 0.0, 0.0, -1.0), (0.0, 0.0, 1.0, 0.0), (0.0, 0.0, 0.0, 0.0), (0.0, 0.0, 0.0, 1.0), (0.0, 0.0, 0.0, 0.0)))"
      ]
     },
     "metadata": {},
     "execution_count": 1
    }
   ],
   "source": [
    "import overreact as rx\n",
    "from overreact import constants\n",
    "\n",
    "scheme = rx.parse_reactions(\"\"\"\n",
    "    I1 <=> I2\n",
    "    I1 -> T1‡ -> P1\n",
    "    I2 -> T2‡ -> P2\n",
    "\"\"\")\n",
    "scheme"
   ]
  },
  {
   "source": [
    "The selectivity is defined as the ratio between both products:\n",
    "\n",
    "$$\n",
    "\\require{mhchem}\n",
    "S = \\frac{c_{\\ce{P_1}}}{c_{\\ce{P_2}}}\n",
    "$$"
   ],
   "cell_type": "markdown",
   "metadata": {}
  },
  {
   "cell_type": "code",
   "execution_count": 2,
   "metadata": {},
   "outputs": [
    {
     "output_type": "execute_result",
     "data": {
      "text/plain": [
       "('I1', 'I2', 'T1‡', 'P1', 'T2‡', 'P2')"
      ]
     },
     "metadata": {},
     "execution_count": 2
    }
   ],
   "source": [
    "scheme.compounds"
   ]
  },
  {
   "cell_type": "code",
   "execution_count": 3,
   "metadata": {},
   "outputs": [
    {
     "output_type": "execute_result",
     "data": {
      "text/plain": [
       "array([1.44465655e+13, 6.21243799e+12, 2.90543524e+05, 2.31048722e+04])"
      ]
     },
     "metadata": {},
     "execution_count": 3
    }
   ],
   "source": [
    "freeenergy = [0.0, -0.5, 10.0, 1.0, 11.0, 1.0]\n",
    "k = rx.rates.eyring(constants.kcal * rx.get_delta(scheme.B, freeenergy))\n",
    "k"
   ]
  },
  {
   "cell_type": "code",
   "execution_count": 4,
   "metadata": {},
   "outputs": [
    {
     "output_type": "stream",
     "name": "stderr",
     "text": [
      "WARNING:absl:No GPU/TPU found, falling back to CPU. (Set TF_CPP_MIN_LOG_LEVEL=0 and rerun for more info.)\n",
      "WARNING:overreact.simulate:equilibria adjustment = 0.04676803611403674\n"
     ]
    },
    {
     "output_type": "execute_result",
     "data": {
      "text/plain": [
       "5.4076065856456434"
      ]
     },
     "metadata": {},
     "execution_count": 4
    }
   ],
   "source": [
    "y, r = rx.get_y(rx.get_dydt(scheme, k), y0=[1.0, 0.0, 0.0, 0.0, 0.0, 0.0])\n",
    "S = y(y.t_max)[scheme.compounds.index(\"P1\")] / y(y.t_max)[scheme.compounds.index(\"P2\")]\n",
    "S"
   ]
  }
 ]
}