{
 "metadata": {
  "language_info": {
   "codemirror_mode": {
    "name": "ipython",
    "version": 3
   },
   "file_extension": ".py",
   "mimetype": "text/x-python",
   "name": "python",
   "nbconvert_exporter": "python",
   "pygments_lexer": "ipython3",
   "version": 3
  },
  "orig_nbformat": 2
 },
 "nbformat": 4,
 "nbformat_minor": 2,
 "cells": [
  {
   "source": [
    "## Reaction symmetry\n",
    "\n",
    "It is the number of different but equivalent possible reaction pathways:\n",
    "\n",
    "$$\n",
    "\\sigma = \\frac{\\prod_{j = 1}^n \\sigma^R_j}{\\sigma^\\ddagger}\n",
    "$$\n",
    "\n",
    "This is a multiplicative correction to the rate constant."
   ],
   "cell_type": "markdown",
   "metadata": {}
  }
 ]
}