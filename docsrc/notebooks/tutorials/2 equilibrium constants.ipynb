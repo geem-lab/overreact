{
 "metadata": {
  "language_info": {
   "codemirror_mode": {
    "name": "ipython",
    "version": 3
   },
   "file_extension": ".py",
   "mimetype": "text/x-python",
   "name": "python",
   "nbconvert_exporter": "python",
   "pygments_lexer": "ipython3",
   "version": "3.8.5-final"
  },
  "orig_nbformat": 2,
  "kernelspec": {
   "name": "python3",
   "display_name": "Python 3"
  }
 },
 "nbformat": 4,
 "nbformat_minor": 2,
 "cells": [
  {
   "source": [
    "## Equilibrium constants\n",
    "\n",
    "Calculating equilibrium constants from energy values is easy.\n",
    "\n",
    "It's known that the stability constant of $\\require{mhchem}\\ce{Cd(MeNH2)4^{2+}}$ is around $10^{6.55}$:"
   ],
   "cell_type": "markdown",
   "metadata": {}
  },
  {
   "cell_type": "code",
   "execution_count": 1,
   "metadata": {},
   "outputs": [
    {
     "output_type": "execute_result",
     "data": {
      "text/plain": [
       "array([6.55219652])"
      ]
     },
     "metadata": {},
     "execution_count": 1
    }
   ],
   "source": [
    "from overreact import core, _thermo, simulate\n",
    "import numpy as np\n",
    "from scipy import constants\n",
    "\n",
    "K = _thermo.equilibrium_constant(-37.4 * constants.kilo)\n",
    "np.log10(K)"
   ]
  },
  {
   "source": [
    "So let's check it:"
   ],
   "cell_type": "markdown",
   "metadata": {}
  },
  {
   "cell_type": "code",
   "execution_count": 2,
   "metadata": {},
   "outputs": [
    {
     "output_type": "execute_result",
     "data": {
      "text/plain": [
       "(('Cd2p', 'MeNH2', '[Cd(MeNH2)4]2p'),\n",
       " ('Cd2p + 4 MeNH2 -> [Cd(MeNH2)4]2p', '[Cd(MeNH2)4]2p -> Cd2p + 4 MeNH2'))"
      ]
     },
     "metadata": {},
     "execution_count": 2
    }
   ],
   "source": [
    "scheme = core.parse_reactions(\"\"\"\n",
    "    Cd2p + 4 MeNH2 <=> [Cd(MeNH2)4]2p\n",
    "\"\"\")\n",
    "scheme.compounds, scheme.reactions"
   ]
  },
  {
   "cell_type": "code",
   "execution_count": 3,
   "metadata": {},
   "outputs": [
    {
     "output_type": "stream",
     "name": "stderr",
     "text": [
      "WARNING:absl:No GPU/TPU found, falling back to CPU. (Set TF_CPP_MIN_LOG_LEVEL=0 and rerun for more info.)\n"
     ]
    },
    {
     "output_type": "execute_result",
     "data": {
      "text/plain": [
       "array([0.01608807, 0.06435228, 0.98391193])"
      ]
     },
     "metadata": {},
     "execution_count": 3
    }
   ],
   "source": [
    "dydt = simulate.get_dydt(scheme, np.array([K[0], 1.]))\n",
    "y, r = simulate.get_y(dydt, y0=[0., 0., 1.])\n",
    "y(y.t_max)"
   ]
  },
  {
   "cell_type": "code",
   "execution_count": 4,
   "metadata": {},
   "outputs": [
    {
     "output_type": "execute_result",
     "data": {
      "text/plain": [
       "6.552196520359293"
      ]
     },
     "metadata": {},
     "execution_count": 4
    }
   ],
   "source": [
    "Kobs = y(y.t_max)[2] / (y(y.t_max)[0] *  y(y.t_max)[1]**4)\n",
    "np.log10(Kobs)"
   ]
  }
 ]
}