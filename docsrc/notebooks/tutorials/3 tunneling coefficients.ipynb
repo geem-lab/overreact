{
 "metadata": {
  "language_info": {
   "codemirror_mode": {
    "name": "ipython",
    "version": 3
   },
   "file_extension": ".py",
   "mimetype": "text/x-python",
   "name": "python",
   "nbconvert_exporter": "python",
   "pygments_lexer": "ipython3",
   "version": "3.8.5-final"
  },
  "orig_nbformat": 2,
  "kernelspec": {
   "name": "python3",
   "display_name": "Python 3",
   "language": "python"
  }
 },
 "nbformat": 4,
 "nbformat_minor": 2,
 "cells": [
  {
   "source": [
    "## Transmission coefficients\n",
    "\n",
    "Transmission coefficients ($\\kappa$) take quantum tunneling effects into\n",
    "account in reaction rate constants."
   ],
   "cell_type": "markdown",
   "metadata": {}
  },
  {
   "cell_type": "code",
   "execution_count": 1,
   "metadata": {},
   "outputs": [
    {
     "output_type": "execute_result",
     "data": {
      "text/plain": [
       "1.0689203364495672"
      ]
     },
     "metadata": {},
     "execution_count": 1
    }
   ],
   "source": [
    "import overreact as rx\n",
    "from overreact import constants\n",
    "\n",
    "rx.tunnel.wigner(266.5144)"
   ]
  },
  {
   "cell_type": "code",
   "execution_count": 2,
   "metadata": {},
   "outputs": [
    {
     "output_type": "execute_result",
     "data": {
      "text/plain": [
       "1.9702999975616722"
      ]
     },
     "metadata": {},
     "execution_count": 2
    }
   ],
   "source": [
    "kappa = rx.tunnel.wigner(1000.0)\n",
    "kappa"
   ]
  },
  {
   "cell_type": "code",
   "execution_count": 3,
   "metadata": {},
   "outputs": [
    {
     "output_type": "execute_result",
     "data": {
      "text/plain": [
       "array([-15.,   0.,  15.])"
      ]
     },
     "metadata": {},
     "execution_count": 3
    }
   ],
   "source": [
    "import numpy as np\n",
    "\n",
    "delta_gibbs = rx.get_delta(\n",
    "    [[0, 0, 0],\n",
    "     [-1, 0, 1],\n",
    "     [1, 0, -1],\n",
    "     [0, 0, 0],\n",
    "     [0, 0, 0]],\n",
    "    [0., 5., -10., 5., 7.5])\n",
    "delta_gibbs"
   ]
  },
  {
   "source": [
    "Now comes Eyring's equation"
   ],
   "cell_type": "markdown",
   "metadata": {}
  },
  {
   "cell_type": "code",
   "execution_count": 4,
   "metadata": {},
   "outputs": [
    {
     "output_type": "execute_result",
     "data": {
      "text/plain": [
       "(array([9.88726786e+10, 1.00000000e+00, 1.01140175e-11]),\n",
       " array([1.21023783e+24, 1.22403666e+13, 1.23799281e+02]))"
      ]
     },
     "metadata": {},
     "execution_count": 4
    }
   ],
   "source": [
    "T = 298.15\n",
    "K = np.exp(- delta_gibbs / (constants.R * T / constants.kcal))\n",
    "k = kappa * (constants.k * T / constants.h) * K\n",
    "K, k"
   ]
  },
  {
   "cell_type": "code",
   "execution_count": 5,
   "metadata": {},
   "outputs": [
    {
     "output_type": "execute_result",
     "data": {
      "text/plain": [
       "array([6.14240385e+23, 6.21243799e+12, 6.28327065e+01])"
      ]
     },
     "metadata": {},
     "execution_count": 5
    }
   ],
   "source": [
    "k / kappa"
   ]
  }
 ]
}